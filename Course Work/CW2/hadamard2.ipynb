{
 "cells": [
  {
   "cell_type": "code",
   "execution_count": 1,
   "id": "b5210bc9",
   "metadata": {},
   "outputs": [],
   "source": [
    "from scipy.linalg import hadamard\n",
    "import numpy as np\n",
    "import cv2\n",
    "from matplotlib import pyplot as plt\n"
   ]
  },
  {
   "cell_type": "code",
   "execution_count": 2,
   "id": "3b665ec0",
   "metadata": {},
   "outputs": [],
   "source": [
    "int2bin = lambda x, n: format(x, 'b').zfill(n)\n"
   ]
  },
  {
   "cell_type": "code",
   "execution_count": 3,
   "id": "2709d9ba",
   "metadata": {},
   "outputs": [],
   "source": [
    "#\n",
    "# The function generates an ideal low pass filter for frequency domain, \n",
    "# M and N are size of the filter/image, D0 is the cut_off point. \n",
    "# \n",
    "def idealLowPass(M, N, D0):\n",
    "    # Initializing the filter with ones; since the filter is a complex function,\n",
    "    # it has two channels, representing the real and imaginary parts:\n",
    "    filter = np.ones((M, N), dtype=np.uint8)\n",
    "    D0 = min(M,N) / 2 * D0\n",
    "    # Scanning through each pixel and calculating the distance of each pixel\n",
    "    # to the image center. If the pixel is within D0, it is changed to 0:\n",
    "    for i in range(M):\n",
    "        for j in range(N):\n",
    "            if ( (i-M/2)**2 + (j-N/2)**2)**0.5 >= D0:\n",
    "                filter[i,j]= 0\n",
    "            \n",
    "    return filter\n"
   ]
  },
  {
   "cell_type": "code",
   "execution_count": 4,
   "id": "f9c6c778",
   "metadata": {},
   "outputs": [],
   "source": [
    "def horder(b,nn): \n",
    "    jj = int2bin(b,nn)\n",
    "    kk = ''\n",
    "    for j in range(nn): \n",
    "        kk = kk+jj[nn-1-j] \n",
    "    \n",
    "    kkk=np.zeros(nn) \n",
    "    kkk[0] = kk[0] \n",
    "    for j in range(1,nn):\n",
    "        kkk[j] = int(kkk[j-1]) ^ int(kk[j]) \n",
    "        \n",
    "    k=0\n",
    "    for j in range(nn):\n",
    "        k = k + int(kkk[j]) * 2**(nn-1-j)  \n",
    "\n",
    "    return int(k)"
   ]
  },
  {
   "cell_type": "code",
   "execution_count": 5,
   "id": "6292c71e",
   "metadata": {},
   "outputs": [],
   "source": [
    "# h = ordhad(n) \n",
    "# generate a n*n ordered hadamard matrix\n",
    "# amir - may 2022\n",
    "#\n",
    "\n",
    "def ordhad(n): \n",
    "    h = hadamard(n)\n",
    "    hh = hadamard(n)\n",
    "    nn = np.log2(n)\n",
    "    for i in range(n):\n",
    "        k = horder(int(i) , int(nn)) \n",
    "        hh[k][:] = h[i][:]\n",
    "\n",
    "    return hh"
   ]
  },
  {
   "cell_type": "code",
   "execution_count": 6,
   "id": "2762d0b0",
   "metadata": {},
   "outputs": [],
   "source": [
    "# setting the cut_off frequency to ...\n",
    "ctf= 0.125"
   ]
  },
  {
   "cell_type": "code",
   "execution_count": 7,
   "id": "f7534368",
   "metadata": {},
   "outputs": [],
   "source": [
    "# ordered Hadamard Matrix\n",
    "h = ordhad(512)\n"
   ]
  },
  {
   "cell_type": "code",
   "execution_count": 8,
   "id": "1b78234b",
   "metadata": {},
   "outputs": [],
   "source": [
    "# reading and pre-processing of the image, it will be graylevel and 512x512\n",
    "img = cv2.imread('cat.bmp')"
   ]
  },
  {
   "cell_type": "code",
   "execution_count": 9,
   "id": "bd6b84eb",
   "metadata": {},
   "outputs": [],
   "source": [
    "img = cv2.cvtColor(img, cv2.COLOR_BGR2GRAY)\n",
    "img = cv2.resize(img,(512,512))"
   ]
  },
  {
   "cell_type": "code",
   "execution_count": 10,
   "id": "ee0bd265",
   "metadata": {},
   "outputs": [],
   "source": [
    "# Had Transform\n",
    "HI = np.matmul( h, np.matmul(img,h) )"
   ]
  },
  {
   "cell_type": "code",
   "execution_count": 11,
   "id": "bba5b873",
   "metadata": {},
   "outputs": [
    {
     "data": {
      "text/plain": [
       "'There are three main ways to perform NumPy matrix multiplication:\\ndot(array a, array b) : returns the scalar or dot product of two arrays.\\nmatmul(array a, array b) : returns the matrix product of two arrays.\\nmultiply(array a, array b) : returns the element-wise matrix multiplication of two arrays.'"
      ]
     },
     "execution_count": 11,
     "metadata": {},
     "output_type": "execute_result"
    }
   ],
   "source": [
    "'''There are three main ways to perform NumPy matrix multiplication:\n",
    "dot(array a, array b) : returns the scalar or dot product of two arrays.\n",
    "matmul(array a, array b) : returns the matrix product of two arrays.\n",
    "multiply(array a, array b) : returns the element-wise matrix multiplication of two arrays.'''"
   ]
  },
  {
   "cell_type": "code",
   "execution_count": 12,
   "id": "e667e7ea",
   "metadata": {},
   "outputs": [
    {
     "name": "stdout",
     "output_type": "stream",
     "text": [
      "(512, 512)\n"
     ]
    }
   ],
   "source": [
    "# our filters are designed for the Fourier domain, wher ethe origin of frequency access is\n",
    "# in the middle of the matrix. in Hadamard and Cosine cases, that origin is in the [0,0] corner of the matrix\n",
    "# so we go for a double filter size (here 1024x1024), but only keep its 4th quarter [512:1024,512:1024]\n",
    "# that quarter is a good filter for Hadamard domain. \n",
    "#\n",
    "h_lp_filt = idealLowPass(1024,1024,ctf)\n",
    "h_lp_filt = h_lp_filt[512:1024,512:1024]\n",
    "print(h_lp_filt.shape) \n",
    "# also, we can have Hadamard highpass filters\n",
    "#h_lp_filt = 1 - h_lp_filt"
   ]
  },
  {
   "cell_type": "code",
   "execution_count": 13,
   "id": "54886336",
   "metadata": {},
   "outputs": [],
   "source": [
    "# filtering ...\n",
    "HI = np.multiply(HI,h_lp_filt)"
   ]
  },
  {
   "cell_type": "code",
   "execution_count": 14,
   "id": "4d4b7e50",
   "metadata": {},
   "outputs": [
    {
     "name": "stdout",
     "output_type": "stream",
     "text": [
      "[[149.13525391 149.13525391 149.13525391 ...  42.6440506   42.6440506\n",
      "   42.6440506 ]\n",
      " [149.13525391 149.13525391 149.13525391 ...  42.6440506   42.6440506\n",
      "   42.6440506 ]\n",
      " [149.13525391 149.13525391 149.13525391 ...  42.6440506   42.6440506\n",
      "   42.6440506 ]\n",
      " ...\n",
      " [ 46.48314667  46.48314667  46.48314667 ... 108.21577454 108.21577454\n",
      "  108.21577454]\n",
      " [ 46.48314667  46.48314667  46.48314667 ... 108.21577454 108.21577454\n",
      "  108.21577454]\n",
      " [ 46.48314667  46.48314667  46.48314667 ... 108.21577454 108.21577454\n",
      "  108.21577454]]\n"
     ]
    }
   ],
   "source": [
    "# inverse Hadamard, constant coeeficient is 1/ image size, here: 512x512 = 512**2\n",
    "#\n",
    "h2 = np.dot( np.matmul( h, np.matmul(HI,h)) , 1/(512**2) )\n",
    "print(h2)"
   ]
  },
  {
   "cell_type": "code",
   "execution_count": 15,
   "id": "b6e5d2fc",
   "metadata": {},
   "outputs": [],
   "source": [
    "\n",
    "# showing the result\n",
    "cv2.imshow(\"Hadamard ID Cyl Filt\",np.uint8(h2))\n",
    "cv2.imshow(\"image\",img)\n"
   ]
  },
  {
   "cell_type": "code",
   "execution_count": 16,
   "id": "c27a1115",
   "metadata": {},
   "outputs": [],
   "source": [
    "\n",
    "cv2.waitKey(0)\n",
    "cv2.destroyAllWindows() "
   ]
  }
 ],
 "metadata": {
  "kernelspec": {
   "display_name": "Python 3 (ipykernel)",
   "language": "python",
   "name": "python3"
  },
  "language_info": {
   "codemirror_mode": {
    "name": "ipython",
    "version": 3
   },
   "file_extension": ".py",
   "mimetype": "text/x-python",
   "name": "python",
   "nbconvert_exporter": "python",
   "pygments_lexer": "ipython3",
   "version": "3.9.12"
  }
 },
 "nbformat": 4,
 "nbformat_minor": 5
}
