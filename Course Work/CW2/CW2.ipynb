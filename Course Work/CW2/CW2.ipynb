{
 "cells": [
  {
   "cell_type": "markdown",
   "id": "17f4ae98",
   "metadata": {},
   "source": [
    "# CW2\n",
    "\n",
    "By: Carissa Ying Geok Teng  \n",
    "Matric No.: A0205190R"
   ]
  },
  {
   "cell_type": "code",
   "execution_count": 1,
   "id": "293e388f",
   "metadata": {},
   "outputs": [],
   "source": [
    "import numpy as np\n",
    "import copy\n",
    "import cv2\n",
    "from scipy.linalg import hadamard\n",
    "\n",
    "import pdb"
   ]
  },
  {
   "cell_type": "markdown",
   "id": "e2eef80a",
   "metadata": {},
   "source": [
    "## Helper Functions"
   ]
  },
  {
   "cell_type": "code",
   "execution_count": 2,
   "id": "deb2d179",
   "metadata": {},
   "outputs": [],
   "source": [
    "def old_am_power(a):\n",
    "    pa = 0.0 \n",
    "    dim1 = a.shape\n",
    "    if len(dim1)==2:\n",
    "        sz = dim1[0] * dim1[1] \n",
    "        for i in range(dim1[0]):\n",
    "            for j in range(dim1[1]):\n",
    "                pa += a[i,j]**2\n",
    "    elif len(dim1)==3:\n",
    "        sz = dim1[0] * dim1[1] * dim1[2]\n",
    "        for i in range(dim1[0]):\n",
    "            for j in range(dim1[1]):\n",
    "                for k in range(dim1[2]):\n",
    "                    pa += a[i,j,k]**2\n",
    "    pa = pa / sz\n",
    "    return pa\n",
    "\n",
    "def old_am_energy(a):\n",
    "    pa = 0.0 \n",
    "    dim1 = a.shape\n",
    "    if len(dim1)==2:\n",
    "        sz = dim1[0] * dim1[1] \n",
    "        for i in range(dim1[0]):\n",
    "            for j in range(dim1[1]):\n",
    "                pa += a[i,j]**2\n",
    "    elif len(dim1)==3:\n",
    "        sz = dim1[0] * dim1[1] * dim1[2]\n",
    "        for i in range(dim1[0]):\n",
    "            for j in range(dim1[1]):\n",
    "                for k in range(dim1[2]):\n",
    "                    pa += a[i,j,k]**2\n",
    "    return pa\n",
    "\n",
    "#Hadamard helper functions\n",
    "\n",
    "int2bin = lambda x, n: format(x, 'b').zfill(n)\n",
    "\n",
    "def horder(b,nn): \n",
    "    jj = int2bin(b,nn)\n",
    "    kk = ''\n",
    "    for j in range(nn): \n",
    "        kk = kk+jj[nn-1-j] \n",
    "    \n",
    "    kkk=np.zeros(nn) \n",
    "    kkk[0] = kk[0] \n",
    "    for j in range(1,nn):\n",
    "        kkk[j] = int(kkk[j-1]) ^ int(kk[j]) \n",
    "        \n",
    "    k=0\n",
    "    for j in range(nn):\n",
    "        k = k + int(kkk[j]) * 2**(nn-1-j)  \n",
    "\n",
    "    return int(k)\n",
    "\n",
    "def ordhad(n): \n",
    "    h = hadamard(n)\n",
    "    hh = hadamard(n)\n",
    "    nn = np.log2(n)\n",
    "    for i in range(n):\n",
    "        k = horder(int(i) , int(nn)) \n",
    "        hh[k][:] = h[i][:]\n",
    "\n",
    "    return hh"
   ]
  },
  {
   "cell_type": "code",
   "execution_count": 3,
   "id": "17a9cdbb",
   "metadata": {},
   "outputs": [],
   "source": [
    "def show_image(img, name):\n",
    "    cv2.namedWindow(name, cv2.WINDOW_NORMAL)\n",
    "    cv2.imshow(name, img)\n",
    "    cv2.waitKey(0)"
   ]
  },
  {
   "cell_type": "markdown",
   "id": "ec752ec3",
   "metadata": {},
   "source": [
    "## Q3"
   ]
  },
  {
   "cell_type": "code",
   "execution_count": 5,
   "id": "1fb8834e",
   "metadata": {},
   "outputs": [],
   "source": [
    "# convert to binary\n",
    "def threshold(edges, t):\n",
    "    edges = np.copy(edges)\n",
    "    edges[edges < t] = 0\n",
    "    edges[edges >= t] = 1\n",
    "    return edges\n",
    "\n",
    "# circle detection\n",
    "def detect_hough_circles(img, r_min=50, r_max=200, theta=360, detect=1, local_max_area=5):\n",
    "    edges = cv2.Canny(img, 50, 150, apertureSize = 3)\n",
    "    edges = threshold(edges, (np.max(edges)-np.min(edges))/2)\n",
    "    \n",
    "    m, n = edges.shape\n",
    "    r_range = np.arange(r_max-r_min)\n",
    "    theta_range = np.arange(theta)\n",
    "    \n",
    "    # optimisation of circle equation\n",
    "    c_x = np.transpose(np.tile(r_range+r_min, (len(theta_range), 1))) * np.cos(theta_range*np.pi/180)\n",
    "    c_y = np.transpose(np.tile(r_range+r_min, (len(theta_range), 1))) * np.sin(theta_range*np.pi/180)\n",
    "    # map to center\n",
    "    c_x = (c_x + r_max).astype(\"uint8\")\n",
    "    c_y = (c_y + r_max).astype(\"uint8\")\n",
    "    c = np.zeros((2*r_max, 2*r_max, r_max-r_min), dtype=\"uint8\")\n",
    "    for r in r_range:\n",
    "        for theta in theta_range:\n",
    "            c[c_x[r, theta], c_y[r, theta], r] = 1\n",
    "            \n",
    "    e = []\n",
    "    for e_x in range(m):\n",
    "        for e_y in range(n):\n",
    "            if edges[e_x, e_y] == 1:\n",
    "                e.append((e_x, e_y))\n",
    "    # count\n",
    "    a = np.zeros((m+2*r_max, n+2*r_max, r_max-r_min), dtype=\"uint8\")\n",
    "    for e_x, e_y in e:\n",
    "        a[e_x:e_x+2*r_max, e_y:e_y+2*r_max, :] += c\n",
    "    \n",
    "    local_max = []\n",
    "    for i in range(detect):\n",
    "        center_x, center_y, r = np.unravel_index(a.argmax(), a.shape)\n",
    "        local_max.append((center_x-r_max, center_y-r_max, r+r_min))\n",
    "        for j in range(-local_max_area, local_max_area):\n",
    "            for k in range(-local_max_area, local_max_area):\n",
    "                for l in range(-local_max_area, local_max_area):\n",
    "                    a[center_x+j, center_y+k, r+l] = 0\n",
    "    return local_max\n",
    "\n",
    "def plot_circles(img, circles, line_weight=100, colour=0):\n",
    "    m, n = img.shape\n",
    "    new_img = np.copy(img)\n",
    "    for x, y, r in circles:\n",
    "        for i in range(m):\n",
    "            for j in range(n):\n",
    "                e = (i-x)**2 + (j-y)**2 - r**2\n",
    "                if e < line_weight and e > -line_weight:\n",
    "                    new_img[i, j] = colour\n",
    "    return new_img"
   ]
  },
  {
   "cell_type": "code",
   "execution_count": 20,
   "id": "468ead1c",
   "metadata": {
    "scrolled": false
   },
   "outputs": [],
   "source": [
    "img = cv2.imread(\"./images/95103cv.png\", cv2.IMREAD_GRAYSCALE)\n",
    "img = cv2.resize(img, dsize=(411, 290))\n",
    "res = detect_hough_circles(img, r_min=1, r_max=100, detect=3, local_max_area=2)"
   ]
  },
  {
   "cell_type": "code",
   "execution_count": 21,
   "id": "956d5593",
   "metadata": {},
   "outputs": [],
   "source": [
    "circles = plot_circles(img, res, 100, colour=255)\n",
    "show_image(circles, \"circles\")"
   ]
  },
  {
   "cell_type": "markdown",
   "id": "c29bab15",
   "metadata": {},
   "source": [
    "## Q4"
   ]
  },
  {
   "cell_type": "code",
   "execution_count": 38,
   "id": "18c71edb",
   "metadata": {},
   "outputs": [],
   "source": [
    "def ButterworthLowPass(m, n, D0, order):\n",
    "    filter = np.zeros((m, n))\n",
    "    # normalized cut_off frequency is mapped to real index\n",
    "    D0 = D0 * min(m,n) / 2\n",
    "    order = 2 * order\n",
    "    for i in range(m):\n",
    "        for j in range(n):\n",
    "            d = ( (i-m/2)**2 + (j-n/2)**2 )**0.5\n",
    "            filter[i,j]= 1 / ( 1 + (d/D0)**order )\n",
    "            \n",
    "    return filter\n",
    "\n",
    "def bandpass_filter(img, low=0.1, high=0.4, order=3):\n",
    "    m, n = img.shape\n",
    "    '''YOUR CODE HERE'''\n",
    "    ft = np.fft.fft2(img)\n",
    "    ft_shift = np.fft.fftshift(ft)\n",
    "    ft_shift_abs = np.abs(ft_shift)\n",
    "    ft_shift_phase = np.angle(ft_shift) \n",
    "    \n",
    "    # filtering\n",
    "    # low is the lowest frequency allowed -> bound of high-pass filter\n",
    "    # high is the highest frequency allowed -> bound of low-pass filter\n",
    "    low_pass_f = ButterworthLowPass(m, n, high, order)\n",
    "    if low == 0:\n",
    "        high_pass_f = np.ones((m, n))\n",
    "    else:\n",
    "        high_pass_f = 1 - ButterworthLowPass(m, n, low, order)\n",
    "    band_pass_f = np.multiply(low_pass_f, high_pass_f) \n",
    "    ft_shift_abs = np.multiply(ft_shift_abs, band_pass_f) \n",
    "    \n",
    "    # rebuild image\n",
    "    z = np.multiply (ft_shift_abs , np.exp((1j)*(ft_shift_phase)))\n",
    "    ift_shift = np.fft.ifftshift(z)\n",
    "    filt_img = np.fft.ifft2(ift_shift)\n",
    "    filt_img = np.uint8(np.abs(filt_img))\n",
    "    \n",
    "    # power\n",
    "    filt_power = old_am_power(filt_img)\n",
    "    '''END OF YOUR CODE'''\n",
    "        \n",
    "    return filt_img, filt_power\n"
   ]
  },
  {
   "cell_type": "code",
   "execution_count": 39,
   "id": "ccefcd58",
   "metadata": {},
   "outputs": [
    {
     "name": "stdout",
     "output_type": "stream",
     "text": [
      "14284.917959538778\n",
      "19.234844348617987\n"
     ]
    }
   ],
   "source": [
    "img = cv2.imread(\"./images/01a_amusementpark.jpg\", 0)\n",
    "show_image(img, \"img\")\n",
    "print(old_am_power(img))\n",
    "filt_img, filt_power = bandpass_filter(img, 0.1, 0.4)\n",
    "show_image(filt_img, \"img\")\n",
    "print(filt_power)"
   ]
  },
  {
   "cell_type": "code",
   "execution_count": 6,
   "id": "d39e4ae7",
   "metadata": {},
   "outputs": [
    {
     "name": "stdout",
     "output_type": "stream",
     "text": [
      "14284.917959538778\n",
      "0.361262653945633\n"
     ]
    }
   ],
   "source": [
    "img = cv2.imread(\"./images/01a_amusementpark.jpg\", 0)\n",
    "show_image(img, \"img\")\n",
    "print(old_am_power(img))\n",
    "filt_img, filt_power = bandpass_filter(img, 0.3, 0.4)\n",
    "show_image(filt_img, \"img\")\n",
    "print(filt_power)"
   ]
  },
  {
   "cell_type": "code",
   "execution_count": 7,
   "id": "560b74c2",
   "metadata": {},
   "outputs": [
    {
     "name": "stdout",
     "output_type": "stream",
     "text": [
      "42251.40167766667\n",
      "44.85139383333333\n"
     ]
    }
   ],
   "source": [
    "img = cv2.imread(\"./images/JASDF-1111_.jpg\", cv2.IMREAD_GRAYSCALE)\n",
    "show_image(img, \"img\")\n",
    "print(old_am_power(img))\n",
    "filt_img, filt_power = bandpass_filter(img, 0.1, 0.4)\n",
    "show_image(filt_img, \"img\")\n",
    "print(filt_power)"
   ]
  },
  {
   "cell_type": "code",
   "execution_count": 8,
   "id": "b5cc3e26",
   "metadata": {},
   "outputs": [
    {
     "name": "stdout",
     "output_type": "stream",
     "text": [
      "42251.40167766667\n",
      "3.2559963333333335\n"
     ]
    }
   ],
   "source": [
    "img = cv2.imread(\"./images/JASDF-1111_.jpg\", cv2.IMREAD_GRAYSCALE)\n",
    "show_image(img, \"img\")\n",
    "print(old_am_power(img))\n",
    "filt_img, filt_power = bandpass_filter(img, 0.3, 0.4)\n",
    "show_image(filt_img, \"img\")\n",
    "print(filt_power)"
   ]
  },
  {
   "cell_type": "markdown",
   "id": "77325b6e",
   "metadata": {},
   "source": [
    "## Q5"
   ]
  },
  {
   "cell_type": "code",
   "execution_count": 8,
   "id": "581c5864",
   "metadata": {},
   "outputs": [
    {
     "name": "stdout",
     "output_type": "stream",
     "text": [
      "[0, 0.1] 10223.787472396025 83.2294587720503\n",
      "[0, 0.1] 486.1164025119617 3.9573597544477117\n",
      "[0, 0.1] 495.31203418292233 4.03221923769769\n"
     ]
    }
   ],
   "source": [
    "img = cv2.imread(\"./images/BBtpZbO.jpg\", cv2.IMREAD_GRAYSCALE)\n",
    "power = old_am_power(img)\n",
    "filt_img_1, filt_power_1 = bandpass_filter(img, 0, 0.1)\n",
    "print([0, 0.1], filt_power_1, filt_power_1/power*100)\n",
    "show_image(filt_img_1, \"img\")\n",
    "filt_img_2, filt_power_2 = bandpass_filter(img, 0.1, 0.3)\n",
    "print([0, 0.1], filt_power_2, filt_power_2/power*100)\n",
    "show_image(filt_img_2, \"img\")\n",
    "filt_img_3, filt_power_3 = bandpass_filter(img, 0.3, 0.7)\n",
    "print([0, 0.1], filt_power_3, filt_power_3/power*100)\n",
    "show_image(filt_img_3, \"img\")\n",
    "\n",
    "final_img = cv2.addWeighted(filt_img_1, 1, filt_img_2, 1, 0)\n",
    "final_img = cv2.addWeighted(final_img, 1, filt_img_3, 1, 0)\n",
    "show_image(final_img, \"img\")"
   ]
  },
  {
   "cell_type": "code",
   "execution_count": 100,
   "id": "95994677",
   "metadata": {},
   "outputs": [],
   "source": [
    "show_image(filt_img, \"test\")"
   ]
  },
  {
   "cell_type": "code",
   "execution_count": 9,
   "id": "ed949cb7",
   "metadata": {},
   "outputs": [
    {
     "name": "stdout",
     "output_type": "stream",
     "text": [
      "[0, 0.1] 27708.43051147461 99.34534715352895\n",
      "[0, 0.1] 5.0626220703125 0.018151441196715638\n",
      "[0, 0.1] 1.0201568603515625 0.003657653485667836\n"
     ]
    }
   ],
   "source": [
    "img = cv2.imread(\"./images/djzam_nat_defect_002_2g_8.bmp\", 0)\n",
    "power = old_am_power(img)\n",
    "filt_img_1, filt_power_1 = bandpass_filter(img, 0, 0.1)\n",
    "print([0, 0.1], filt_power_1, filt_power_1/power*100)\n",
    "show_image(filt_img_1, \"img\")\n",
    "filt_img_2, filt_power_2 = bandpass_filter(img, 0.1, 0.3)\n",
    "print([0, 0.1], filt_power_2, filt_power_2/power*100)\n",
    "show_image(filt_img_2, \"img\")\n",
    "filt_img_3, filt_power_3 = bandpass_filter(img, 0.3, 0.7)\n",
    "print([0, 0.1], filt_power_3, filt_power_3/power*100)\n",
    "show_image(filt_img_3, \"img\")\n",
    "\n",
    "final_img = cv2.addWeighted(filt_img_1, 1, filt_img_2, 1, 0)\n",
    "final_img = cv2.addWeighted(final_img, 1, filt_img_3, 1, 0)\n",
    "show_image(final_img, \"img\")"
   ]
  },
  {
   "cell_type": "markdown",
   "id": "5ea8c8d0",
   "metadata": {},
   "source": [
    "## Q6"
   ]
  },
  {
   "cell_type": "code",
   "execution_count": 10,
   "id": "44e3ff6f",
   "metadata": {},
   "outputs": [],
   "source": [
    "def idealLowPass(m, n, d_0):\n",
    "    filter = np.ones((m, n), dtype=np.uint8)\n",
    "    d_0 = min(m, n) / 2 * d_0\n",
    "    for i in range(m):\n",
    "        for j in range(n):\n",
    "            if ((i-m/2)**2 + (j-n/2)**2)**0.5 >= d_0:\n",
    "                filter[i,j]= 0\n",
    "            \n",
    "    return filter\n",
    "\n",
    "def bandreject_filter(img, low=0.6, high=0.9):\n",
    "    m, n = img.shape\n",
    "    m = 2 ** int(np.log2(min(m, n)))\n",
    "    '''YOUR CODE HERE'''\n",
    "    h = ordhad(m)\n",
    "    w = np.matmul(h, np.matmul(img,h))\n",
    "    \n",
    "    # filter\n",
    "    low_pass_filter = idealLowPass(m*2, m*2, high)[m:, m:]\n",
    "    if low == 0:\n",
    "        high_pass_filter = np.ones((m, m), dtype=\"uint8\")\n",
    "    else:\n",
    "        high_pass_filter = 1 - idealLowPass(m*2, m*2, low)[m:, m:]\n",
    "    band_pass_f = np.multiply(low_pass_filter, high_pass_filter)\n",
    "    band_reject_f = 1 - band_pass_f\n",
    "    filt_w = np.multiply(w, band_reject_f)\n",
    "    \n",
    "    # rebuild image\n",
    "    filt_img = np.dot(np.matmul(h, np.matmul(filt_w, h)), 1/m**2)\n",
    "    filt_img = filt_img.astype(\"uint8\")\n",
    "    \n",
    "    # power\n",
    "    filt_power = old_am_power(filt_img)\n",
    "    '''END OF YOUR CODE'''\n",
    "    \n",
    "    return filt_img, filt_power"
   ]
  },
  {
   "cell_type": "code",
   "execution_count": 11,
   "id": "ee89da2e",
   "metadata": {},
   "outputs": [
    {
     "name": "stdout",
     "output_type": "stream",
     "text": [
      "[0, 0.1] 15769.0234375 98.16375485209065\n",
      "[0, 0.1] 15794.775405883789 98.32406344199187\n"
     ]
    }
   ],
   "source": [
    "img = cv2.imread(\"./images/IMG_0358.JPG\", cv2.IMREAD_GRAYSCALE)\n",
    "img = cv2.resize(img, dsize=(256, 256))\n",
    "power = old_am_power(img)\n",
    "filt_img_1, filt_power_1 = bandreject_filter(img, 0.6, 0.9)\n",
    "print([0, 0.1], filt_power_1, filt_power_1/power*100)\n",
    "show_image(filt_img_1, \"img\")\n",
    "filt_img_2, filt_power_2 = bandreject_filter(img, 0.4, 0.6)\n",
    "print([0, 0.1], filt_power_2, filt_power_2/power*100)\n",
    "show_image(filt_img_2, \"img\")\n"
   ]
  },
  {
   "cell_type": "code",
   "execution_count": 12,
   "id": "cfeea947",
   "metadata": {},
   "outputs": [
    {
     "name": "stdout",
     "output_type": "stream",
     "text": [
      "[0, 0.1] 17428.4168548584 98.12726358493491\n",
      "[0, 0.1] 17495.519760131836 98.50507325794867\n"
     ]
    }
   ],
   "source": [
    "img = cv2.imread(\"./images/06600600u.bmp\", cv2.IMREAD_GRAYSCALE)\n",
    "img = cv2.resize(img, dsize=(256, 256))\n",
    "power = old_am_power(img)\n",
    "filt_img_1, filt_power_1 = bandreject_filter(img, 0.6, 0.9)\n",
    "print([0, 0.1], filt_power_1, filt_power_1/power*100)\n",
    "show_image(filt_img_1, \"img\")\n",
    "filt_img_2, filt_power_2 = bandreject_filter(img, 0.4, 0.6)\n",
    "print([0, 0.1], filt_power_2, filt_power_2/power*100)\n",
    "show_image(filt_img_2, \"img\")"
   ]
  },
  {
   "cell_type": "code",
   "execution_count": null,
   "id": "e4d6d3f6",
   "metadata": {},
   "outputs": [],
   "source": []
  }
 ],
 "metadata": {
  "kernelspec": {
   "display_name": "Python 3 (ipykernel)",
   "language": "python",
   "name": "python3"
  },
  "language_info": {
   "codemirror_mode": {
    "name": "ipython",
    "version": 3
   },
   "file_extension": ".py",
   "mimetype": "text/x-python",
   "name": "python",
   "nbconvert_exporter": "python",
   "pygments_lexer": "ipython3",
   "version": "3.9.12"
  }
 },
 "nbformat": 4,
 "nbformat_minor": 5
}
