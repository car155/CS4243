{
 "cells": [
  {
   "cell_type": "markdown",
   "id": "bad9ed96",
   "metadata": {},
   "source": [
    "# Hadamard Example 1\n",
    "### CS4243\n",
    "#### Amir - 2022"
   ]
  },
  {
   "cell_type": "code",
   "execution_count": 1,
   "id": "b5210bc9",
   "metadata": {},
   "outputs": [],
   "source": [
    "#\n",
    "from scipy.linalg import hadamard\n",
    "import numpy as np\n",
    "import cv2\n"
   ]
  },
  {
   "cell_type": "code",
   "execution_count": 2,
   "id": "1d620035",
   "metadata": {},
   "outputs": [
    {
     "name": "stdout",
     "output_type": "stream",
     "text": [
      "4x4 Natural Hadamard Matrix:\n",
      " [[ 1  1  1  1]\n",
      " [ 1 -1  1 -1]\n",
      " [ 1  1 -1 -1]\n",
      " [ 1 -1 -1  1]]\n",
      "\n",
      "8x8 Natural Hadamard Matrix:\n",
      " [[ 1  1  1  1  1  1  1  1]\n",
      " [ 1 -1  1 -1  1 -1  1 -1]\n",
      " [ 1  1 -1 -1  1  1 -1 -1]\n",
      " [ 1 -1 -1  1  1 -1 -1  1]\n",
      " [ 1  1  1  1 -1 -1 -1 -1]\n",
      " [ 1 -1  1 -1 -1  1 -1  1]\n",
      " [ 1  1 -1 -1 -1 -1  1  1]\n",
      " [ 1 -1 -1  1 -1  1  1 -1]]\n"
     ]
    }
   ],
   "source": [
    "# to show a 4x4 natural hadamard matrix and an 8x8 one\n",
    "print('4x4 Natural Hadamard Matrix:\\n', hadamard(4) )\n",
    "\n",
    "print('\\n8x8 Natural Hadamard Matrix:\\n', hadamard(8) )\n"
   ]
  },
  {
   "cell_type": "code",
   "execution_count": 3,
   "id": "3b665ec0",
   "metadata": {},
   "outputs": [
    {
     "name": "stdout",
     "output_type": "stream",
     "text": [
      "001011\n"
     ]
    }
   ],
   "source": [
    "# inline function to convert integer numbers to binary strings, and showing an example, \n",
    "# x is the number and n is the bit length of its binary representation\n",
    "\n",
    "int2bin = lambda x, n: format(x, 'b').zfill(n)\n",
    "\n",
    "print(int2bin(11, 6))"
   ]
  },
  {
   "cell_type": "code",
   "execution_count": 4,
   "id": "f9c6c778",
   "metadata": {},
   "outputs": [],
   "source": [
    "# horder function to convert the row number of the natural\n",
    "# hadamard matrix to the sequency ordered row number\n",
    "#\n",
    "def horder(b,nn): \n",
    "    jj = int2bin(b,nn)\n",
    "    kk = ''\n",
    "    for j in range(nn): \n",
    "        kk = kk+jj[nn-1-j] \n",
    "    \n",
    "    kkk=np.zeros(nn) \n",
    "    kkk[0] = kk[0] \n",
    "    for j in range(1,nn):\n",
    "        kkk[j] = int(kkk[j-1]) ^ int(kk[j]) \n",
    "        \n",
    "    k=0\n",
    "    for j in range(nn):\n",
    "        k = k + int(kkk[j]) * 2**(nn-1-j)  \n",
    "\n",
    "    return int(k)"
   ]
  },
  {
   "cell_type": "code",
   "execution_count": 5,
   "id": "6292c71e",
   "metadata": {},
   "outputs": [],
   "source": [
    "# h = ordhad(n) \n",
    "# generate a n*n ordered hadamard matrix\n",
    "# amir - may 2022\n",
    "#\n",
    "\n",
    "def ordhad(n): \n",
    "    h = hadamard(n)\n",
    "    hh = hadamard(n)\n",
    "    nn = np.log2(n)\n",
    "    for i in range(n):\n",
    "        k = horder(int(i) , int(nn)) \n",
    "        hh[k][:] = h[i][:]\n",
    "\n",
    "    return hh"
   ]
  },
  {
   "cell_type": "code",
   "execution_count": 6,
   "id": "3b5f3dc3",
   "metadata": {},
   "outputs": [
    {
     "name": "stdout",
     "output_type": "stream",
     "text": [
      "4x4 Freq Ordered Hadamard Matrix:\n",
      " [[ 1  1  1  1]\n",
      " [ 1  1 -1 -1]\n",
      " [ 1 -1 -1  1]\n",
      " [ 1 -1  1 -1]]\n",
      "\n",
      "8x8 Freq Ordered Hadamard Matrix:\n",
      " [[ 1  1  1  1  1  1  1  1]\n",
      " [ 1  1  1  1 -1 -1 -1 -1]\n",
      " [ 1  1 -1 -1 -1 -1  1  1]\n",
      " [ 1  1 -1 -1  1  1 -1 -1]\n",
      " [ 1 -1 -1  1  1 -1 -1  1]\n",
      " [ 1 -1 -1  1 -1  1  1 -1]\n",
      " [ 1 -1  1 -1 -1  1 -1  1]\n",
      " [ 1 -1  1 -1  1 -1  1 -1]]\n"
     ]
    }
   ],
   "source": [
    "# to show a 4x4 sequency/frequency ordered hadamard matrix and an 8x8 one\n",
    "print('4x4 Freq Ordered Hadamard Matrix:\\n', ordhad(4) )\n",
    "\n",
    "print('\\n8x8 Freq Ordered Hadamard Matrix:\\n', ordhad(8) )\n"
   ]
  },
  {
   "cell_type": "code",
   "execution_count": 7,
   "id": "44dd1d04",
   "metadata": {},
   "outputs": [
    {
     "data": {
      "text/plain": [
       "32"
      ]
     },
     "execution_count": 7,
     "metadata": {},
     "output_type": "execute_result"
    }
   ],
   "source": [
    "# Hadamard matrices, 64x64\n",
    "ddd = (ordhad(64) + 1 ) * 200\n",
    "eee = (hadamard(64)+ 1 ) * 200 \n",
    "cv2.namedWindow(\"Seq Ord 64\", cv2.WINDOW_NORMAL)\n",
    "cv2.imshow('Seq Ord 64',np.uint8(ddd))\n",
    "cv2.namedWindow(\"Natural 64\", cv2.WINDOW_NORMAL)\n",
    "cv2.imshow('Natural 64',np.uint8(eee))\n",
    "cv2.imwrite('ordhad64.jpg',np.uint8(ddd))\n",
    "cv2.waitKey(0)"
   ]
  },
  {
   "cell_type": "code",
   "execution_count": 8,
   "id": "9d86e42f",
   "metadata": {},
   "outputs": [
    {
     "data": {
      "text/plain": [
       "32"
      ]
     },
     "execution_count": 8,
     "metadata": {},
     "output_type": "execute_result"
    }
   ],
   "source": [
    "# Hadamard matrices, 256x256\n",
    "ddd = (ordhad(256) + 1 ) * 200\n",
    "eee = (hadamard(256)+ 1 ) * 200 \n",
    "cv2.namedWindow(\"Seq Ord 256\", cv2.WINDOW_NORMAL)\n",
    "cv2.imshow('Seq Ord 256',np.uint8(ddd))\n",
    "cv2.namedWindow(\"Natural 256\", cv2.WINDOW_NORMAL)\n",
    "cv2.imshow('Natural 256',np.uint8(eee))\n",
    "cv2.imwrite('ordhad256.jpg',np.uint8(ddd))\n",
    "cv2.waitKey(0)"
   ]
  },
  {
   "cell_type": "code",
   "execution_count": 9,
   "id": "f7534368",
   "metadata": {},
   "outputs": [],
   "source": [
    "# Example: Hadamard transform of a 512x512 image\n",
    "# 1- building the freq ordered Hadamard matrix, size=12x512, equal to the supposed\n",
    "# image size\n",
    "h = ordhad(512)\n"
   ]
  },
  {
   "cell_type": "code",
   "execution_count": 10,
   "id": "1b78234b",
   "metadata": {},
   "outputs": [],
   "source": [
    "# reading image, conversion to graylevel, resize to 512x512\n",
    "img = cv2.imread('cat.bmp')"
   ]
  },
  {
   "cell_type": "code",
   "execution_count": 11,
   "id": "bd6b84eb",
   "metadata": {},
   "outputs": [],
   "source": [
    "img = cv2.cvtColor(img, cv2.COLOR_BGR2GRAY)\n",
    "img = cv2.resize(img,(512,512))"
   ]
  },
  {
   "cell_type": "code",
   "execution_count": 12,
   "id": "ee0bd265",
   "metadata": {},
   "outputs": [],
   "source": [
    "# Transform: HI = h*img*h , matrix multiplication\n",
    "HI = np.matmul( h, np.matmul(img,h) )"
   ]
  },
  {
   "cell_type": "code",
   "execution_count": 13,
   "id": "19081f77",
   "metadata": {},
   "outputs": [
    {
     "data": {
      "text/plain": [
       "(512, 512)"
      ]
     },
     "execution_count": 13,
     "metadata": {},
     "output_type": "execute_result"
    }
   ],
   "source": [
    "# showing the shape and contents of the HI, i.e. Hadamard transform of the  img\n",
    "HI.shape\n"
   ]
  },
  {
   "cell_type": "code",
   "execution_count": 14,
   "id": "6fe52647",
   "metadata": {},
   "outputs": [
    {
     "data": {
      "text/plain": [
       "array([[23606677,     4373,  4912413, ...,    63125,    14945,    24609],\n",
       "       [ 2958037,  4230425,  3858369, ...,     9065,     9229,    11457],\n",
       "       [ 1083773,   435409, -1867383, ...,   -29819,   -15279,   -11555],\n",
       "       ...,\n",
       "       [  -15101,    -4257,    -1053, ...,     -317,      139,       31],\n",
       "       [    8239,     4003,   -13721, ...,     -365,       35,      -57],\n",
       "       [     887,    14999,     6003, ...,      -33,      255,      239]])"
      ]
     },
     "execution_count": 14,
     "metadata": {},
     "output_type": "execute_result"
    }
   ],
   "source": [
    "HI"
   ]
  },
  {
   "cell_type": "code",
   "execution_count": 15,
   "id": "d38158e9",
   "metadata": {},
   "outputs": [
    {
     "data": {
      "text/plain": [
       "23606677"
      ]
     },
     "execution_count": 15,
     "metadata": {},
     "output_type": "execute_result"
    }
   ],
   "source": [
    "# sum of the all pixels of the img, check the HI[0,0] too !!??\n",
    "np.sum(img)"
   ]
  },
  {
   "cell_type": "code",
   "execution_count": 16,
   "id": "c27a1115",
   "metadata": {},
   "outputs": [],
   "source": [
    "\n",
    "cv2.destroyAllWindows() "
   ]
  },
  {
   "cell_type": "code",
   "execution_count": 17,
   "id": "bba5b873",
   "metadata": {},
   "outputs": [
    {
     "data": {
      "text/plain": [
       "'There are three main ways to perform NumPy matrix multiplication:\\ndot(array a, array b) : returns the scalar or dot product of two arrays.\\nmatmul(array a, array b) : returns the matrix product of two arrays.\\nmultiply(array a, array b) : returns the element-wise matrix multiplication of two arrays.'"
      ]
     },
     "execution_count": 17,
     "metadata": {},
     "output_type": "execute_result"
    }
   ],
   "source": [
    "'''There are three main ways to perform NumPy matrix multiplication:\n",
    "dot(array a, array b) : returns the scalar or dot product of two arrays.\n",
    "matmul(array a, array b) : returns the matrix product of two arrays.\n",
    "multiply(array a, array b) : returns the element-wise matrix multiplication of two arrays.'''"
   ]
  },
  {
   "cell_type": "code",
   "execution_count": 18,
   "id": "dc9c70d9",
   "metadata": {},
   "outputs": [
    {
     "data": {
      "text/plain": [
       "' in tests below we are going to build some 4x4 given binary images and compute their freq\\nordered Hadamard transform to hive you some hints about an image and the distribution \\nof its frequency components '"
      ]
     },
     "execution_count": 18,
     "metadata": {},
     "output_type": "execute_result"
    }
   ],
   "source": [
    "''' in tests below we are going to build some 4x4 given binary images and compute their freq\n",
    "ordered Hadamard transform to hive you some hints about an image and the distribution \n",
    "of its frequency components '''"
   ]
  },
  {
   "cell_type": "code",
   "execution_count": 19,
   "id": "c196f2c3",
   "metadata": {},
   "outputs": [
    {
     "name": "stdout",
     "output_type": "stream",
     "text": [
      "Image=\n",
      " [[1. 1. 1. 1.]\n",
      " [1. 1. 1. 1.]\n",
      " [1. 1. 1. 1.]\n",
      " [1. 1. 1. 1.]] \n",
      " Hadamard=\n",
      "[[16.  0.  0.  0.]\n",
      " [ 0.  0.  0.  0.]\n",
      " [ 0.  0.  0.  0.]\n",
      " [ 0.  0.  0.  0.]]\n"
     ]
    }
   ],
   "source": [
    "img = np.ones((4,4))\n",
    "h = ordhad(4)\n",
    "H = np.matmul( h, np.matmul(img,h))\n",
    "print('Image=\\n', img , '\\n Hadamard=')\n",
    "print(H)"
   ]
  },
  {
   "cell_type": "code",
   "execution_count": 20,
   "id": "5b4abf93",
   "metadata": {},
   "outputs": [
    {
     "name": "stdout",
     "output_type": "stream",
     "text": [
      "Image=\n",
      " [[1, 1, 0, 0], [1, 1, 0, 0], [1, 1, 0, 0], [1, 1, 0, 0]] \n",
      " Hadamard=\n",
      "[[8 8 0 0]\n",
      " [0 0 0 0]\n",
      " [0 0 0 0]\n",
      " [0 0 0 0]]\n"
     ]
    }
   ],
   "source": [
    "img = [[1,1,0,0],[1,1,0,0],[1,1,0,0],[1,1,0,0]]\n",
    "h = ordhad(4)\n",
    "H = np.matmul( h, np.matmul(img,h))\n",
    "print('Image=\\n', img , '\\n Hadamard=')\n",
    "print(H)"
   ]
  },
  {
   "cell_type": "code",
   "execution_count": 21,
   "id": "9d2ea32d",
   "metadata": {},
   "outputs": [
    {
     "name": "stdout",
     "output_type": "stream",
     "text": [
      "Image=\n",
      " [[1, 0, 1, 0], [1, 0, 1, 0], [1, 0, 1, 0], [1, 0, 1, 0]] \n",
      " Hadamard=\n",
      "[[8 0 0 8]\n",
      " [0 0 0 0]\n",
      " [0 0 0 0]\n",
      " [0 0 0 0]]\n"
     ]
    }
   ],
   "source": [
    "img = [[1,0,1,0],[1,0,1,0],[1,0,1,0],[1,0,1,0]]\n",
    "h = ordhad(4)\n",
    "H = np.matmul( h, np.matmul(img,h))\n",
    "print('Image=\\n', img , '\\n Hadamard=')\n",
    "print(H)"
   ]
  },
  {
   "cell_type": "code",
   "execution_count": 22,
   "id": "93b1f13a",
   "metadata": {},
   "outputs": [
    {
     "name": "stdout",
     "output_type": "stream",
     "text": [
      "Image=\n",
      " [[1, 0, 1, 0], [0, 1, 0, 1], [1, 0, 1, 0], [0, 1, 0, 1]] \n",
      " Hadamard=\n",
      "[[8 0 0 0]\n",
      " [0 0 0 0]\n",
      " [0 0 0 0]\n",
      " [0 0 0 8]]\n"
     ]
    }
   ],
   "source": [
    "img = [[1,0,1,0],[0,1,0,1],[1,0,1,0],[0,1,0,1]]\n",
    "h = ordhad(4)\n",
    "H = np.matmul( h, np.matmul(img,h))\n",
    "\n",
    "print('Image=\\n', img , '\\n Hadamard=')\n",
    "print(H)"
   ]
  },
  {
   "cell_type": "code",
   "execution_count": 23,
   "id": "661414c3",
   "metadata": {},
   "outputs": [
    {
     "name": "stdout",
     "output_type": "stream",
     "text": [
      "Image=\n",
      " [[0, 0, 0, 0], [0, 1, 1, 0], [0, 1, 1, 0], [0, 0, 0, 0]] \n",
      " Hadamard=\n",
      "[[ 4  0 -4  0]\n",
      " [ 0  0  0  0]\n",
      " [-4  0  4  0]\n",
      " [ 0  0  0  0]]\n"
     ]
    }
   ],
   "source": [
    "img = [[0,0,0,0],[0,1,1,0],[0,1,1,0],[0,0,0,0]]\n",
    "h = ordhad(4)\n",
    "H = np.matmul( h, np.matmul(img,h))\n",
    "\n",
    "print('Image=\\n', img , '\\n Hadamard=')\n",
    "print(H)"
   ]
  },
  {
   "cell_type": "code",
   "execution_count": 24,
   "id": "4d4b7e50",
   "metadata": {},
   "outputs": [
    {
     "name": "stdout",
     "output_type": "stream",
     "text": [
      "Image=\n",
      " [[0, 0, 0, 0], [0, 1, 1, 0], [0, 1, 1, 0], [0, 0, 0, 0]] \n",
      " Inverse Hadamard=\n",
      "[[0. 0. 0. 0.]\n",
      " [0. 1. 1. 0.]\n",
      " [0. 1. 1. 0.]\n",
      " [0. 0. 0. 0.]]\n"
     ]
    }
   ],
   "source": [
    "# inverse hadamard\n",
    "h2 = np.dot( np.matmul( h, np.matmul(H,h)) , 1/(4**2) )\n",
    "print('Image=\\n', img , '\\n Inverse Hadamard=')\n",
    "print(h2)"
   ]
  },
  {
   "cell_type": "code",
   "execution_count": null,
   "id": "b6e5d2fc",
   "metadata": {},
   "outputs": [],
   "source": []
  }
 ],
 "metadata": {
  "kernelspec": {
   "display_name": "Python 3 (ipykernel)",
   "language": "python",
   "name": "python3"
  },
  "language_info": {
   "codemirror_mode": {
    "name": "ipython",
    "version": 3
   },
   "file_extension": ".py",
   "mimetype": "text/x-python",
   "name": "python",
   "nbconvert_exporter": "python",
   "pygments_lexer": "ipython3",
   "version": "3.9.12"
  }
 },
 "nbformat": 4,
 "nbformat_minor": 5
}
