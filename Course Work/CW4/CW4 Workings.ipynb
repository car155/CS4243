{
 "cells": [
  {
   "cell_type": "code",
   "execution_count": 1,
   "id": "dddc052a",
   "metadata": {},
   "outputs": [],
   "source": [
    "import numpy as np"
   ]
  },
  {
   "cell_type": "markdown",
   "id": "04ae0f83",
   "metadata": {},
   "source": [
    "## Q2"
   ]
  },
  {
   "cell_type": "code",
   "execution_count": 21,
   "id": "537b04a8",
   "metadata": {},
   "outputs": [],
   "source": [
    "i = np.array([[0.1, 0.1, 0.1],\n",
    "              [0.1, 0.1, 0.9],\n",
    "              [0.1, 0.9, 0.1],\n",
    "              [0.1, 0.9, 0.9],\n",
    "              [0.9, 0.1, 0.1],\n",
    "              [0.9, 0.1, 0.9],\n",
    "              [0.9, 0.9, 0.1],\n",
    "              [0.9, 0.9, 0.9]])\n",
    "o = np.array([[0.1, 0.9, 0.9, 0.9, 0.9, 0.9, 0.9, 0.9]]).transpose()"
   ]
  },
  {
   "cell_type": "code",
   "execution_count": 29,
   "id": "f861ad8a",
   "metadata": {},
   "outputs": [
    {
     "data": {
      "text/plain": [
       "array([[0.484],\n",
       "       [0.484],\n",
       "       [0.484]])"
      ]
     },
     "execution_count": 29,
     "metadata": {},
     "output_type": "execute_result"
    }
   ],
   "source": [
    "i_inverse = np.linalg.pinv(i)\n",
    "w = np.dot(i_inverse, o)\n",
    "np.round_(w,3)"
   ]
  },
  {
   "cell_type": "markdown",
   "id": "35c3cc5d",
   "metadata": {},
   "source": [
    "## Q3b"
   ]
  },
  {
   "cell_type": "code",
   "execution_count": 31,
   "id": "c83ee139",
   "metadata": {},
   "outputs": [],
   "source": [
    "i = np.array([[0.1, 0.1],\n",
    "              [0.1, 0.9],\n",
    "              [0.9, 0.1],\n",
    "              [0.9, 0.9]])\n",
    "w1 = np.array([[-0.3, 0.1],\n",
    "               [0.05, -0.17]])\n",
    "w2 = np.array([[-0.7], [-0.2]])\n",
    "ot = np.array([[0.1, 0.9, 0.9, 0.1]]).transpose()"
   ]
  },
  {
   "cell_type": "code",
   "execution_count": 42,
   "id": "75da5706",
   "metadata": {},
   "outputs": [
    {
     "data": {
      "text/plain": [
       "array([[ 0.0811],\n",
       "       [ 0.8819],\n",
       "       [ 0.7291],\n",
       "       [-0.0701]])"
      ]
     },
     "execution_count": 42,
     "metadata": {},
     "output_type": "execute_result"
    }
   ],
   "source": [
    "h = np.dot(i, w1)\n",
    "o = np.dot(h, w2)\n",
    "e1 = ot - o\n",
    "e1"
   ]
  },
  {
   "cell_type": "code",
   "execution_count": 43,
   "id": "f76e630e",
   "metadata": {},
   "outputs": [
    {
     "data": {
      "text/plain": [
       "array([[-0.025, -0.007],\n",
       "       [ 0.015, -0.143],\n",
       "       [-0.265,  0.073],\n",
       "       [-0.225, -0.063]])"
      ]
     },
     "execution_count": 43,
     "metadata": {},
     "output_type": "execute_result"
    }
   ],
   "source": [
    "h"
   ]
  },
  {
   "cell_type": "code",
   "execution_count": 45,
   "id": "4c68c8b2",
   "metadata": {},
   "outputs": [
    {
     "data": {
      "text/plain": [
       "array([[-0.11585714],\n",
       "       [-1.25985714],\n",
       "       [-1.04157143],\n",
       "       [ 0.10014286]])"
      ]
     },
     "execution_count": 45,
     "metadata": {},
     "output_type": "execute_result"
    }
   ],
   "source": [
    "e21 =  e1 / -0.7\n",
    "e21"
   ]
  },
  {
   "cell_type": "code",
   "execution_count": 46,
   "id": "8b0fb1be",
   "metadata": {},
   "outputs": [
    {
     "data": {
      "text/plain": [
       "-0.025"
      ]
     },
     "execution_count": 46,
     "metadata": {},
     "output_type": "execute_result"
    }
   ],
   "source": [
    "-0.1/4"
   ]
  },
  {
   "cell_type": "code",
   "execution_count": 48,
   "id": "f832c04e",
   "metadata": {},
   "outputs": [
    {
     "data": {
      "text/plain": [
       "array([[-0.4055],\n",
       "       [-4.4095],\n",
       "       [-3.6455],\n",
       "       [ 0.3505]])"
      ]
     },
     "execution_count": 48,
     "metadata": {},
     "output_type": "execute_result"
    }
   ],
   "source": [
    "e22 = e1 / -0.2\n",
    "e22"
   ]
  },
  {
   "cell_type": "markdown",
   "id": "f8765cb7",
   "metadata": {},
   "source": [
    "## Q4"
   ]
  },
  {
   "cell_type": "code",
   "execution_count": null,
   "id": "e2895936",
   "metadata": {},
   "outputs": [],
   "source": []
  }
 ],
 "metadata": {
  "kernelspec": {
   "display_name": "Python 3 (ipykernel)",
   "language": "python",
   "name": "python3"
  },
  "language_info": {
   "codemirror_mode": {
    "name": "ipython",
    "version": 3
   },
   "file_extension": ".py",
   "mimetype": "text/x-python",
   "name": "python",
   "nbconvert_exporter": "python",
   "pygments_lexer": "ipython3",
   "version": "3.9.12"
  }
 },
 "nbformat": 4,
 "nbformat_minor": 5
}
