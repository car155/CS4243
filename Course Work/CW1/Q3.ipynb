{
 "cells": [
  {
   "cell_type": "code",
   "execution_count": 3,
   "id": "1cf161d4",
   "metadata": {},
   "outputs": [],
   "source": [
    "import cv2\n",
    "import numpy as np"
   ]
  },
  {
   "cell_type": "code",
   "execution_count": 4,
   "id": "84e57150",
   "metadata": {},
   "outputs": [],
   "source": [
    "# takes an image path and returns an array containing the original image, and the BGR channels respectively\n",
    "def coloured_BGR(path):\n",
    "    img = cv2.imread(path)\n",
    "    result = (img, )\n",
    "    # for each of the 3 colour channels\n",
    "    for i in range(3):\n",
    "        channel = np.copy(img)\n",
    "        # turn off the other 2 channels\n",
    "        for j in range(3):\n",
    "            if j != i:         \n",
    "                channel[:,:,j] = 0\n",
    "        result = result + (channel, )\n",
    "    return result"
   ]
  },
  {
   "cell_type": "code",
   "execution_count": 5,
   "id": "d1a5a3b3",
   "metadata": {},
   "outputs": [],
   "source": [
    "def show_image(img, name):\n",
    "    cv2.namedWindow(name, cv2.WINDOW_NORMAL)\n",
    "    cv2.imshow(name, img)\n",
    "    cv2.waitKey(0)"
   ]
  },
  {
   "cell_type": "code",
   "execution_count": 6,
   "id": "a6b5d7a9",
   "metadata": {},
   "outputs": [],
   "source": [
    "def channel_pow(channel):\n",
    "    m, n = channel.shape[0], channel.shape[1]\n",
    "    return 1/m/n * np.sum(np.power(channel.astype('float64'), 2))"
   ]
  },
  {
   "cell_type": "markdown",
   "id": "392b7f6c",
   "metadata": {},
   "source": [
    "### Car"
   ]
  },
  {
   "cell_type": "code",
   "execution_count": 7,
   "id": "fb971fb0",
   "metadata": {},
   "outputs": [],
   "source": [
    "car, car_b, car_g, car_r = coloured_BGR(\"images/carpixel-1976-ferrari-512-bb-.jpg\")\n",
    "show_image(car, \"Car\")\n",
    "show_image(car_r, \"Car Red\")\n",
    "show_image(car_g, \"Car Green\")\n",
    "show_image(car_b, \"Car Blue\")"
   ]
  },
  {
   "cell_type": "code",
   "execution_count": 8,
   "id": "5e426ed9",
   "metadata": {},
   "outputs": [
    {
     "name": "stdout",
     "output_type": "stream",
     "text": [
      "Red Channel Power: 27846.79942578125\n",
      "Green Channel Power: 21715.563685329864\n",
      "Blue Channel Power: 22387.477006944446\n"
     ]
    }
   ],
   "source": [
    "car_r_pow = channel_pow(car_r)\n",
    "car_g_pow = channel_pow(car_g)\n",
    "car_b_pow = channel_pow(car_b)\n",
    "\n",
    "print(\"Red Channel Power: {}\".format(car_r_pow))\n",
    "print(\"Green Channel Power: {}\".format(car_g_pow))\n",
    "print(\"Blue Channel Power: {}\".format(car_b_pow))"
   ]
  },
  {
   "cell_type": "markdown",
   "id": "62cc2209",
   "metadata": {},
   "source": [
    "### Cat"
   ]
  },
  {
   "cell_type": "code",
   "execution_count": 9,
   "id": "a7961b8d",
   "metadata": {},
   "outputs": [],
   "source": [
    "cat, cat_b, cat_g, cat_r = coloured_BGR(\"images/cat.bmp\")\n",
    "show_image(cat, \"cat\")\n",
    "show_image(cat_r, \"cat Red\")\n",
    "show_image(cat_g, \"cat Green\")\n",
    "show_image(cat_b, \"cat Blue\")"
   ]
  },
  {
   "cell_type": "code",
   "execution_count": 10,
   "id": "757dccaf",
   "metadata": {
    "scrolled": true
   },
   "outputs": [
    {
     "name": "stdout",
     "output_type": "stream",
     "text": [
      "Red Channel Power: 14484.7470703125\n",
      "Green Channel Power: 12635.6376953125\n",
      "Blue Channel Power: 9089.672668457031\n"
     ]
    }
   ],
   "source": [
    "cat_r_pow = channel_pow(cat_r)\n",
    "cat_g_pow = channel_pow(cat_g)\n",
    "cat_b_pow = channel_pow(cat_b)\n",
    "\n",
    "print(\"Red Channel Power: {}\".format(cat_r_pow))\n",
    "print(\"Green Channel Power: {}\".format(cat_g_pow))\n",
    "print(\"Blue Channel Power: {}\".format(cat_b_pow))"
   ]
  }
 ],
 "metadata": {
  "kernelspec": {
   "display_name": "Python 3 (ipykernel)",
   "language": "python",
   "name": "python3"
  },
  "language_info": {
   "codemirror_mode": {
    "name": "ipython",
    "version": 3
   },
   "file_extension": ".py",
   "mimetype": "text/x-python",
   "name": "python",
   "nbconvert_exporter": "python",
   "pygments_lexer": "ipython3",
   "version": "3.9.12"
  }
 },
 "nbformat": 4,
 "nbformat_minor": 5
}
