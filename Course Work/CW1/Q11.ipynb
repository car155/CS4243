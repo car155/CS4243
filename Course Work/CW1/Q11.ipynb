{
 "cells": [
  {
   "cell_type": "code",
   "execution_count": 1,
   "id": "7ea4602b",
   "metadata": {},
   "outputs": [],
   "source": [
    "import cv2\n",
    "import numpy as np"
   ]
  },
  {
   "cell_type": "code",
   "execution_count": 2,
   "id": "2f9f263e",
   "metadata": {},
   "outputs": [],
   "source": [
    "def unsharp(img, h):\n",
    "    lpf = cv2.filter2D(img, -1, h)\n",
    "    return cv2.addWeighted(img, 5, lpf, -5, 0)"
   ]
  },
  {
   "cell_type": "code",
   "execution_count": 3,
   "id": "1b1cb23d",
   "metadata": {},
   "outputs": [],
   "source": [
    "def show_image(img, name):\n",
    "    cv2.namedWindow(name, cv2.WINDOW_NORMAL)\n",
    "    cv2.imshow(name, img)\n",
    "    cv2.waitKey(0)"
   ]
  },
  {
   "cell_type": "code",
   "execution_count": 4,
   "id": "5ece9164",
   "metadata": {},
   "outputs": [],
   "source": [
    "hl2 = np.array([[1/9, 1/9, 1/9],\n",
    "                [1/9, 1/9, 1/9],\n",
    "                [1/9, 1/9, 1/9]])"
   ]
  },
  {
   "cell_type": "code",
   "execution_count": 5,
   "id": "9be11b64",
   "metadata": {},
   "outputs": [],
   "source": [
    "building = cv2.imread(\"images/20220406_120328gl.jpg\", cv2.IMREAD_GRAYSCALE)\n",
    "building_unsharp = unsharp(building, hl2)\n",
    "show_image(building_unsharp, \"building_unsharp\")"
   ]
  },
  {
   "cell_type": "code",
   "execution_count": 6,
   "id": "929447e9",
   "metadata": {},
   "outputs": [],
   "source": [
    "chicken = cv2.imread(\"images/20220511_105950gl.jpg\", cv2.IMREAD_GRAYSCALE)\n",
    "chicken_unsharp = unsharp(chicken, hl2)\n",
    "show_image(chicken_unsharp, \"chicken_unsharp\")"
   ]
  },
  {
   "cell_type": "code",
   "execution_count": 7,
   "id": "98c1f8dd",
   "metadata": {},
   "outputs": [],
   "source": [
    "castle = cv2.imread(\"images/Arge_Bam3_bw.bmp\", cv2.IMREAD_GRAYSCALE)\n",
    "castle_unsharp = unsharp(castle, hl2)\n",
    "show_image(castle_unsharp, \"castle_unsharp\")"
   ]
  }
 ],
 "metadata": {
  "kernelspec": {
   "display_name": "Python 3 (ipykernel)",
   "language": "python",
   "name": "python3"
  },
  "language_info": {
   "codemirror_mode": {
    "name": "ipython",
    "version": 3
   },
   "file_extension": ".py",
   "mimetype": "text/x-python",
   "name": "python",
   "nbconvert_exporter": "python",
   "pygments_lexer": "ipython3",
   "version": "3.9.12"
  }
 },
 "nbformat": 4,
 "nbformat_minor": 5
}
