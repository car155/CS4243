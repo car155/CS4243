{
 "cells": [
  {
   "cell_type": "code",
   "execution_count": 1,
   "id": "88c8e9e5",
   "metadata": {},
   "outputs": [],
   "source": [
    "import cv2\n",
    "import numpy as np"
   ]
  },
  {
   "cell_type": "code",
   "execution_count": 2,
   "id": "9958f9b6",
   "metadata": {},
   "outputs": [],
   "source": [
    "def show_image(img, name):\n",
    "    cv2.namedWindow(name, cv2.WINDOW_NORMAL)\n",
    "    cv2.imshow(name, img)\n",
    "    cv2.waitKey(0)"
   ]
  },
  {
   "cell_type": "code",
   "execution_count": 3,
   "id": "34c73ecf",
   "metadata": {},
   "outputs": [],
   "source": [
    "def add_dot_noise(img, nc):\n",
    "    mask = np.ones(img.size, np.uint8)\n",
    "    n = int(img.size * nc)\n",
    "    mask[:n] = 0 # turn of nc% of pixels\n",
    "    np.random.shuffle(mask)\n",
    "    mask = np.reshape(mask, img.shape)\n",
    "    return img * mask"
   ]
  },
  {
   "cell_type": "code",
   "execution_count": 10,
   "id": "36adf372",
   "metadata": {},
   "outputs": [],
   "source": [
    "def entropy(img):\n",
    "    hist, bins = np.histogram(img.flatten(),256,[0,256])\n",
    "    p_k = hist / img.size # normalising hist to get probabilities\n",
    "    p_k_log = p_k * np.log2(p_k)\n",
    "    return -np.sum(p_k_log)"
   ]
  },
  {
   "cell_type": "code",
   "execution_count": 11,
   "id": "9422ec4f",
   "metadata": {},
   "outputs": [],
   "source": [
    "# Noise\n",
    "img = cv2.imread(\"images/20220406_120328gl.jpg\")\n",
    "img_gray = cv2.cvtColor(img, cv2.COLOR_BGR2GRAY)\n",
    "\n",
    "noisy_img = add_dot_noise(img_gray, 0.2)\n",
    "show_image(noisy_img, \"noisy_img\")"
   ]
  },
  {
   "cell_type": "code",
   "execution_count": 6,
   "id": "69f0e093",
   "metadata": {},
   "outputs": [],
   "source": [
    "# 3x3 filter\n",
    "median_3 = cv2.medianBlur(noisy_img, 3)\n",
    "show_image(median_3, \"median_3\")"
   ]
  },
  {
   "cell_type": "code",
   "execution_count": 7,
   "id": "fd16509a",
   "metadata": {},
   "outputs": [],
   "source": [
    "# 5x5 filter\n",
    "median_5 = cv2.medianBlur(noisy_img, 5)\n",
    "show_image(median_5, \"median_5\")"
   ]
  },
  {
   "cell_type": "code",
   "execution_count": 12,
   "id": "2d6ba55d",
   "metadata": {},
   "outputs": [
    {
     "name": "stdout",
     "output_type": "stream",
     "text": [
      "Entropy of original image: 7.757252236684103\n",
      "Entropy of noisy image: 6.923125170769407\n"
     ]
    }
   ],
   "source": [
    "# Entropy\n",
    "img_entropy = entropy(img_gray)\n",
    "noisy_img_entropy = entropy(noisy_img)\n",
    "\n",
    "print(\"Entropy of original image: {}\".format(img_entropy))\n",
    "print(\"Entropy of noisy image: {}\".format(noisy_img_entropy))"
   ]
  }
 ],
 "metadata": {
  "kernelspec": {
   "display_name": "Python 3 (ipykernel)",
   "language": "python",
   "name": "python3"
  },
  "language_info": {
   "codemirror_mode": {
    "name": "ipython",
    "version": 3
   },
   "file_extension": ".py",
   "mimetype": "text/x-python",
   "name": "python",
   "nbconvert_exporter": "python",
   "pygments_lexer": "ipython3",
   "version": "3.9.12"
  }
 },
 "nbformat": 4,
 "nbformat_minor": 5
}
