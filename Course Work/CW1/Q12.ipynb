{
 "cells": [
  {
   "cell_type": "code",
   "execution_count": 1,
   "id": "7c3c849c",
   "metadata": {},
   "outputs": [],
   "source": [
    "import cv2\n",
    "import numpy as np"
   ]
  },
  {
   "cell_type": "code",
   "execution_count": 2,
   "id": "ef5f282a",
   "metadata": {},
   "outputs": [],
   "source": [
    "def show_image(img, name):\n",
    "    cv2.namedWindow(name, cv2.WINDOW_NORMAL)\n",
    "    cv2.imshow(name, img)\n",
    "    cv2.waitKey(0)"
   ]
  },
  {
   "cell_type": "code",
   "execution_count": 3,
   "id": "c27a170d",
   "metadata": {},
   "outputs": [],
   "source": [
    "def sobel(img, hsx, hsy):\n",
    "    Gx = cv2.filter2D(img, -1, hsx)\n",
    "    Gy = cv2.filter2D(img, -1, hsy)\n",
    "    absx = cv2.convertScaleAbs(Gx)\n",
    "    absy = cv2.convertScaleAbs(Gy)\n",
    "    G = cv2.addWeighted(absx, 1, absy, 1,0)\n",
    "    return G"
   ]
  },
  {
   "cell_type": "code",
   "execution_count": 4,
   "id": "056ade12",
   "metadata": {},
   "outputs": [],
   "source": [
    "def channel_pow(channel):\n",
    "    m, n = channel.shape[0], channel.shape[1]\n",
    "    return 1/m/n * np.sum(np.power(channel.astype('float64'), 2))"
   ]
  },
  {
   "cell_type": "code",
   "execution_count": 5,
   "id": "01fdc14c",
   "metadata": {},
   "outputs": [],
   "source": [
    "hsy = np.array([[-1, -2, -1],\n",
    "                [ 0,  0,  0],\n",
    "                [ 1,  2,  1]])\n",
    "hsx = np.array([[-1,  0,  1],\n",
    "                [-2,  0,  2],\n",
    "                [-1,  0,  1]])"
   ]
  },
  {
   "cell_type": "markdown",
   "id": "5e3b1703",
   "metadata": {},
   "source": [
    "### Amusement park"
   ]
  },
  {
   "cell_type": "code",
   "execution_count": 7,
   "id": "81a5e6fb",
   "metadata": {},
   "outputs": [],
   "source": [
    "amusement_park = cv2.imread(\"images/01a_amusementpark.jpg\", cv2.IMREAD_GRAYSCALE)\n",
    "amusement_park_sobel = sobel(amusement_park, hsx, hsy)\n",
    "show_image(amusement_park_sobel, \"amusement_park_sobel\")"
   ]
  },
  {
   "cell_type": "code",
   "execution_count": 8,
   "id": "03a48896",
   "metadata": {},
   "outputs": [
    {
     "name": "stdout",
     "output_type": "stream",
     "text": [
      "Amusement Park Power: 14284.917959538776\n",
      "Amusement Park Sobel Power: 296.4057332793774\n"
     ]
    }
   ],
   "source": [
    "amusement_park_pow = channel_pow(amusement_park)\n",
    "amusement_park_sobel_pow = channel_pow(amusement_park_sobel)\n",
    "\n",
    "print(\"Amusement Park Power: {}\".format(amusement_park_pow))\n",
    "print(\"Amusement Park Sobel Power: {}\".format(amusement_park_sobel_pow))"
   ]
  },
  {
   "cell_type": "markdown",
   "id": "175ced61",
   "metadata": {},
   "source": [
    "### Bris"
   ]
  },
  {
   "cell_type": "code",
   "execution_count": 9,
   "id": "73561824",
   "metadata": {},
   "outputs": [],
   "source": [
    "bris = cv2.imread(\"images/bris1.bmp\", cv2.IMREAD_GRAYSCALE)\n",
    "bris_sobel = sobel(bris, hsx, hsy)\n",
    "show_image(bris_sobel, \"bris_sobel\")"
   ]
  },
  {
   "cell_type": "code",
   "execution_count": 10,
   "id": "09f1d267",
   "metadata": {},
   "outputs": [
    {
     "name": "stdout",
     "output_type": "stream",
     "text": [
      "Bris Power: 23159.221793972203\n",
      "Bris Sobel Power: 153.92535808161813\n"
     ]
    }
   ],
   "source": [
    "bris_pow = channel_pow(bris)\n",
    "bris_sobel_pow = channel_pow(bris_sobel)\n",
    "\n",
    "print(\"Bris Power: {}\".format(bris_pow))\n",
    "print(\"Bris Sobel Power: {}\".format(bris_sobel_pow))"
   ]
  }
 ],
 "metadata": {
  "kernelspec": {
   "display_name": "Python 3 (ipykernel)",
   "language": "python",
   "name": "python3"
  },
  "language_info": {
   "codemirror_mode": {
    "name": "ipython",
    "version": 3
   },
   "file_extension": ".py",
   "mimetype": "text/x-python",
   "name": "python",
   "nbconvert_exporter": "python",
   "pygments_lexer": "ipython3",
   "version": "3.9.12"
  }
 },
 "nbformat": 4,
 "nbformat_minor": 5
}
