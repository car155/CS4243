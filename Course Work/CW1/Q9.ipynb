{
 "cells": [
  {
   "cell_type": "code",
   "execution_count": 1,
   "id": "2a06f725",
   "metadata": {},
   "outputs": [],
   "source": [
    "import cv2\n",
    "import numpy as np"
   ]
  },
  {
   "cell_type": "code",
   "execution_count": 2,
   "id": "5a62d9e1",
   "metadata": {},
   "outputs": [],
   "source": [
    "def show_image(img, name):\n",
    "    cv2.namedWindow(name, cv2.WINDOW_NORMAL)\n",
    "    cv2.imshow(name, img)\n",
    "    cv2.waitKey(0)"
   ]
  },
  {
   "cell_type": "code",
   "execution_count": 3,
   "id": "00473961",
   "metadata": {},
   "outputs": [],
   "source": [
    "def channel_pow(channel):\n",
    "    m, n = channel.shape[0], channel.shape[1]\n",
    "    return 1/m/n * np.sum(np.power(channel.astype('float64'), 2))"
   ]
  },
  {
   "cell_type": "code",
   "execution_count": 29,
   "id": "981feda9",
   "metadata": {},
   "outputs": [],
   "source": [
    "hl1 = np.array([[1/4, 1/4],\n",
    "                [1/4, 1/4]])\n",
    "\n",
    "hl2 = np.array([[1/9, 1/9, 1/9],\n",
    "                [1/9, 1/9, 1/9],\n",
    "                [1/9, 1/9, 1/9]])"
   ]
  },
  {
   "cell_type": "markdown",
   "id": "32c3df43",
   "metadata": {},
   "source": [
    "### Car"
   ]
  },
  {
   "cell_type": "code",
   "execution_count": 30,
   "id": "1418c0c6",
   "metadata": {},
   "outputs": [],
   "source": [
    "car_noisy_1 = cv2.imread(\"images/noisy_carpixel-1976-ferrari-512-bb-snp_nc10.jpg\", cv2.IMREAD_GRAYSCALE)\n",
    "car_noisy_2 = cv2.imread(\"images/noisy_carpixel-1976-ferrari-512-bb-snp_nc20.jpg\", cv2.IMREAD_GRAYSCALE)\n",
    "car_noisy_3 = cv2.imread(\"images/noisy_carpixel-1976-ferrari-512-bb-gauss_std_10.jpg\", cv2.IMREAD_GRAYSCALE)\n",
    "car_noisy_4 = cv2.imread(\"images/noisy_carpixel-1976-ferrari-512-bb-gauss_std_20.jpg\", cv2.IMREAD_GRAYSCALE)"
   ]
  },
  {
   "cell_type": "code",
   "execution_count": 54,
   "id": "07d62404",
   "metadata": {},
   "outputs": [],
   "source": [
    "# car 1 hl1\n",
    "car_noisy_1_hl1 = cv2.filter2D(car_noisy_1, -1, hl1)\n",
    "show_image(car_noisy_1_hl1, \"car 1 hl1\")"
   ]
  },
  {
   "cell_type": "code",
   "execution_count": 55,
   "id": "40279067",
   "metadata": {},
   "outputs": [],
   "source": [
    "# car 1 hl2\n",
    "car_noisy_1_hl2 = cv2.filter2D(car_noisy_1, -1, hl2)\n",
    "show_image(car_noisy_1_hl2, \"car 1 hl2\")"
   ]
  },
  {
   "cell_type": "code",
   "execution_count": 33,
   "id": "1c30eacb",
   "metadata": {},
   "outputs": [],
   "source": [
    "# car 2 hl1\n",
    "car_noisy_2_hl1 = cv2.filter2D(car_noisy_2, -1, hl1)\n",
    "show_image(car_noisy_2_hl1, \"car 2 hl1\")"
   ]
  },
  {
   "cell_type": "code",
   "execution_count": 34,
   "id": "946415e0",
   "metadata": {},
   "outputs": [],
   "source": [
    "# car 2 hl2\n",
    "car_noisy_2_hl2 = cv2.filter2D(car_noisy_2, -1, hl2)\n",
    "show_image(car_noisy_2_hl2, \"car 2 hl2\")"
   ]
  },
  {
   "cell_type": "code",
   "execution_count": 35,
   "id": "df011fcc",
   "metadata": {},
   "outputs": [],
   "source": [
    "# car 3 hl1\n",
    "car_noisy_3_hl1 = cv2.filter2D(car_noisy_3, -1, hl1)\n",
    "show_image(car_noisy_3_hl1, \"car 3 hl1\")"
   ]
  },
  {
   "cell_type": "code",
   "execution_count": 36,
   "id": "b1350777",
   "metadata": {},
   "outputs": [],
   "source": [
    "# car 3 hl2\n",
    "car_noisy_3_hl2 = cv2.filter2D(car_noisy_3, -1, hl2)\n",
    "show_image(car_noisy_3_hl2, \"car 3 hl2\")"
   ]
  },
  {
   "cell_type": "code",
   "execution_count": 37,
   "id": "0a0db246",
   "metadata": {},
   "outputs": [],
   "source": [
    "# car 4 hl1\n",
    "car_noisy_4_hl1 = cv2.filter2D(car_noisy_4, -1, hl1)\n",
    "show_image(car_noisy_4_hl1, \"car 4 hl1\")"
   ]
  },
  {
   "cell_type": "code",
   "execution_count": 38,
   "id": "7f1ba05a",
   "metadata": {},
   "outputs": [],
   "source": [
    "# car 4 hl2\n",
    "car_noisy_4_hl2 = cv2.filter2D(car_noisy_4, -1, hl2)\n",
    "show_image(car_noisy_4_hl2, \"car 4 hl2\")"
   ]
  },
  {
   "cell_type": "code",
   "execution_count": 39,
   "id": "96a865df",
   "metadata": {
    "scrolled": true
   },
   "outputs": [
    {
     "name": "stdout",
     "output_type": "stream",
     "text": [
      "Car 1 hl1 power: 18848.971406684028\n",
      "Car 1 hl2 power: 18535.054529079862\n",
      "Car 2 hl1 power: 15879.539415364585\n",
      "Car 2 hl2 power: 15381.133000000002\n",
      "Car 3 hl1 power: 23332.673210069446\n",
      "Car 3 hl2 power: 23152.050052517363\n",
      "Car 4 hl1 power: 22527.753428819444\n",
      "Car 4 hl2 power: 22289.177457899306\n"
     ]
    }
   ],
   "source": [
    "# power\n",
    "car_1_hl1_pow = channel_pow(car_noisy_1_hl1)\n",
    "car_1_hl2_pow = channel_pow(car_noisy_1_hl2)\n",
    "car_2_hl1_pow = channel_pow(car_noisy_2_hl1)\n",
    "car_2_hl2_pow = channel_pow(car_noisy_2_hl2)\n",
    "car_3_hl1_pow = channel_pow(car_noisy_3_hl1)\n",
    "car_3_hl2_pow = channel_pow(car_noisy_3_hl2)\n",
    "car_4_hl1_pow = channel_pow(car_noisy_4_hl1)\n",
    "car_4_hl2_pow = channel_pow(car_noisy_4_hl2)\n",
    "\n",
    "print(\"Car 1 hl1 power: {}\".format(car_1_hl1_pow))\n",
    "print(\"Car 1 hl2 power: {}\".format(car_1_hl2_pow))\n",
    "print(\"Car 2 hl1 power: {}\".format(car_2_hl1_pow))\n",
    "print(\"Car 2 hl2 power: {}\".format(car_2_hl2_pow))\n",
    "print(\"Car 3 hl1 power: {}\".format(car_3_hl1_pow))\n",
    "print(\"Car 3 hl2 power: {}\".format(car_3_hl2_pow))\n",
    "print(\"Car 4 hl1 power: {}\".format(car_4_hl1_pow))\n",
    "print(\"Car 4 hl2 power: {}\".format(car_4_hl2_pow))"
   ]
  },
  {
   "cell_type": "code",
   "execution_count": 40,
   "id": "158c76bb",
   "metadata": {},
   "outputs": [],
   "source": [
    "# 3x3 filter\n",
    "car_1_m3 = cv2.medianBlur(car_noisy_1, 3)\n",
    "car_2_m3 = cv2.medianBlur(car_noisy_2, 3)\n",
    "car_3_m3 = cv2.medianBlur(car_noisy_3, 3)\n",
    "car_4_m3 = cv2.medianBlur(car_noisy_4, 3)\n",
    "\n",
    "show_image(car_1_m3, \"car_1_m3\")\n",
    "show_image(car_2_m3, \"car_2_m3\")\n",
    "show_image(car_3_m3, \"car_3_m3\")\n",
    "show_image(car_4_m3, \"car_4_m3\")"
   ]
  },
  {
   "cell_type": "code",
   "execution_count": 41,
   "id": "9849fccc",
   "metadata": {},
   "outputs": [],
   "source": [
    "# 5x5 filter\n",
    "car_1_m5 = cv2.medianBlur(car_noisy_1, 5)\n",
    "car_2_m5 = cv2.medianBlur(car_noisy_2, 5)\n",
    "car_3_m5 = cv2.medianBlur(car_noisy_3, 5)\n",
    "car_4_m5 = cv2.medianBlur(car_noisy_4, 5)\n",
    "\n",
    "show_image(car_1_m5, \"car_1_m5\")\n",
    "show_image(car_2_m5, \"car_2_m5\")\n",
    "show_image(car_3_m5, \"car_3_m5\")\n",
    "show_image(car_4_m5, \"car_4_m5\")"
   ]
  },
  {
   "cell_type": "markdown",
   "id": "aa420f7d",
   "metadata": {},
   "source": [
    "### Cat"
   ]
  },
  {
   "cell_type": "code",
   "execution_count": 42,
   "id": "02533b24",
   "metadata": {},
   "outputs": [],
   "source": [
    "cat_noisy_1 = cv2.imread(\"images/noisy_cat_snp_nc10.bmp\", cv2.IMREAD_GRAYSCALE)\n",
    "cat_noisy_2 = cv2.imread(\"images/noisy_cat_snp_20.bmp\", cv2.IMREAD_GRAYSCALE)\n",
    "cat_noisy_3 = cv2.imread(\"images/noisy_cat_gauss_std10.bmp\", cv2.IMREAD_GRAYSCALE)\n",
    "cat_noisy_4 = cv2.imread(\"images/noisy_cat_guass_std20.bmp\", cv2.IMREAD_GRAYSCALE)"
   ]
  },
  {
   "cell_type": "code",
   "execution_count": 43,
   "id": "737fea58",
   "metadata": {},
   "outputs": [],
   "source": [
    "# cat 1 hl1\n",
    "cat_noisy_1_hl1 = cv2.filter2D(cat_noisy_1, -1, hl1)\n",
    "show_image(cat_noisy_1_hl1, \"cat 1 hl1\")"
   ]
  },
  {
   "cell_type": "code",
   "execution_count": 56,
   "id": "f90c1e1a",
   "metadata": {},
   "outputs": [],
   "source": [
    "# cat 1 hl2\n",
    "cat_noisy_1_hl2 = cv2.filter2D(cat_noisy_1, -1, hl2)\n",
    "show_image(cat_noisy_1_hl2, \"cat 1 hl2\")"
   ]
  },
  {
   "cell_type": "code",
   "execution_count": 45,
   "id": "1c8681a3",
   "metadata": {},
   "outputs": [],
   "source": [
    "# cat 2 hl1\n",
    "cat_noisy_2_hl1 = cv2.filter2D(cat_noisy_2, -1, hl1)\n",
    "show_image(cat_noisy_2_hl1, \"cat 2 hl1\")"
   ]
  },
  {
   "cell_type": "code",
   "execution_count": 46,
   "id": "aa8164a7",
   "metadata": {},
   "outputs": [],
   "source": [
    "# cat 2 hl2\n",
    "cat_noisy_2_hl2 = cv2.filter2D(cat_noisy_2, -1, hl2)\n",
    "show_image(cat_noisy_2_hl2, \"cat 2 hl2\")"
   ]
  },
  {
   "cell_type": "code",
   "execution_count": 47,
   "id": "6021a45c",
   "metadata": {},
   "outputs": [],
   "source": [
    "# cat 3 hl1\n",
    "cat_noisy_3_hl1 = cv2.filter2D(cat_noisy_3, -1, hl1)\n",
    "show_image(cat_noisy_3_hl1, \"cat 3 hl1\")"
   ]
  },
  {
   "cell_type": "code",
   "execution_count": 48,
   "id": "9c1ac00b",
   "metadata": {},
   "outputs": [],
   "source": [
    "# cat 3 hl2\n",
    "cat_noisy_3_hl2 = cv2.filter2D(cat_noisy_3, -1, hl2)\n",
    "show_image(cat_noisy_3_hl2, \"cat 3 hl2\")"
   ]
  },
  {
   "cell_type": "code",
   "execution_count": 57,
   "id": "f04f2176",
   "metadata": {},
   "outputs": [],
   "source": [
    "# cat 4 hl1\n",
    "cat_noisy_4_hl1 = cv2.filter2D(cat_noisy_4, -1, hl1)\n",
    "show_image(cat_noisy_4_hl1, \"cat 4 hl1\")"
   ]
  },
  {
   "cell_type": "code",
   "execution_count": 50,
   "id": "56142d1d",
   "metadata": {},
   "outputs": [],
   "source": [
    "# cat 4 hl2\n",
    "cat_noisy_4_hl2 = cv2.filter2D(cat_noisy_4, -1, hl2)\n",
    "show_image(cat_noisy_4_hl2, \"cat 4 hl2\")"
   ]
  },
  {
   "cell_type": "code",
   "execution_count": 51,
   "id": "54c34b6e",
   "metadata": {
    "scrolled": false
   },
   "outputs": [
    {
     "name": "stdout",
     "output_type": "stream",
     "text": [
      "Cat 1 hl1 power: 10492.607864379883\n",
      "Cat 1 hl2 power: 10195.119979858398\n",
      "Cat 2 hl1 power: 8813.080749511719\n",
      "Cat 2 hl2 power: 8433.35319519043\n",
      "Cat 3 hl1 power: 12111.720642089844\n",
      "Cat 3 hl2 power: 11892.272811889648\n",
      "Cat 4 hl1 power: 12341.172622680664\n",
      "Cat 4 hl2 power: 12065.997085571289\n"
     ]
    }
   ],
   "source": [
    "# power\n",
    "cat_1_hl1_pow = channel_pow(cat_noisy_1_hl1)\n",
    "cat_1_hl2_pow = channel_pow(cat_noisy_1_hl2)\n",
    "cat_2_hl1_pow = channel_pow(cat_noisy_2_hl1)\n",
    "cat_2_hl2_pow = channel_pow(cat_noisy_2_hl2)\n",
    "cat_3_hl1_pow = channel_pow(cat_noisy_3_hl1)\n",
    "cat_3_hl2_pow = channel_pow(cat_noisy_3_hl2)\n",
    "cat_4_hl1_pow = channel_pow(cat_noisy_4_hl1)\n",
    "cat_4_hl2_pow = channel_pow(cat_noisy_4_hl2)\n",
    "\n",
    "print(\"Cat 1 hl1 power: {}\".format(cat_1_hl1_pow))\n",
    "print(\"Cat 1 hl2 power: {}\".format(cat_1_hl2_pow))\n",
    "print(\"Cat 2 hl1 power: {}\".format(cat_2_hl1_pow))\n",
    "print(\"Cat 2 hl2 power: {}\".format(cat_2_hl2_pow))\n",
    "print(\"Cat 3 hl1 power: {}\".format(cat_3_hl1_pow))\n",
    "print(\"Cat 3 hl2 power: {}\".format(cat_3_hl2_pow))\n",
    "print(\"Cat 4 hl1 power: {}\".format(cat_4_hl1_pow))\n",
    "print(\"Cat 4 hl2 power: {}\".format(cat_4_hl2_pow))"
   ]
  },
  {
   "cell_type": "code",
   "execution_count": 52,
   "id": "beafdd1b",
   "metadata": {},
   "outputs": [],
   "source": [
    "# 3x3 filter\n",
    "cat_1_m3 = cv2.medianBlur(cat_noisy_1, 3)\n",
    "cat_2_m3 = cv2.medianBlur(cat_noisy_2, 3)\n",
    "cat_3_m3 = cv2.medianBlur(cat_noisy_3, 3)\n",
    "cat_4_m3 = cv2.medianBlur(cat_noisy_4, 3)\n",
    "\n",
    "show_image(cat_1_m3, \"cat_1_m3\")\n",
    "show_image(cat_2_m3, \"cat_2_m3\")\n",
    "show_image(cat_3_m3, \"cat_3_m3\")\n",
    "show_image(cat_4_m3, \"cat_4_m3\")"
   ]
  },
  {
   "cell_type": "code",
   "execution_count": 53,
   "id": "527736f2",
   "metadata": {},
   "outputs": [],
   "source": [
    "# 5x5 filter\n",
    "cat_1_m5 = cv2.medianBlur(cat_noisy_1, 5)\n",
    "cat_2_m5 = cv2.medianBlur(cat_noisy_2, 5)\n",
    "cat_3_m5 = cv2.medianBlur(cat_noisy_3, 5)\n",
    "cat_4_m5 = cv2.medianBlur(cat_noisy_4, 5)\n",
    "\n",
    "show_image(cat_1_m5, \"cat_1_m5\")\n",
    "show_image(cat_2_m5, \"cat_2_m5\")\n",
    "show_image(cat_3_m5, \"cat_3_m5\")\n",
    "show_image(cat_4_m5, \"cat_4_m5\")"
   ]
  }
 ],
 "metadata": {
  "kernelspec": {
   "display_name": "Python 3 (ipykernel)",
   "language": "python",
   "name": "python3"
  },
  "language_info": {
   "codemirror_mode": {
    "name": "ipython",
    "version": 3
   },
   "file_extension": ".py",
   "mimetype": "text/x-python",
   "name": "python",
   "nbconvert_exporter": "python",
   "pygments_lexer": "ipython3",
   "version": "3.9.12"
  }
 },
 "nbformat": 4,
 "nbformat_minor": 5
}
