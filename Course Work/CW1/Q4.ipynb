{
 "cells": [
  {
   "cell_type": "code",
   "execution_count": 1,
   "id": "fba20da8",
   "metadata": {},
   "outputs": [],
   "source": [
    "import cv2\n",
    "import numpy as np"
   ]
  },
  {
   "cell_type": "code",
   "execution_count": 2,
   "id": "ccda2d0b",
   "metadata": {},
   "outputs": [],
   "source": [
    "def show_image(img, name):\n",
    "    cv2.namedWindow(name, cv2.WINDOW_NORMAL)\n",
    "    cv2.imshow(name, img)\n",
    "    cv2.waitKey(0)"
   ]
  },
  {
   "cell_type": "markdown",
   "id": "3694aa79",
   "metadata": {},
   "source": [
    "### Car"
   ]
  },
  {
   "cell_type": "code",
   "execution_count": 3,
   "id": "36cbdc1b",
   "metadata": {},
   "outputs": [],
   "source": [
    "car = cv2.imread(\"images/carpixel-1976-ferrari-512-bb-.jpg\")\n",
    "car_gray = cv2.cvtColor(car, cv2.COLOR_BGR2GRAY)\n",
    "show_image(car_gray, \"Car Gray\")"
   ]
  },
  {
   "cell_type": "markdown",
   "id": "0296cd55",
   "metadata": {},
   "source": [
    "### Cat"
   ]
  },
  {
   "cell_type": "code",
   "execution_count": 4,
   "id": "4daf2d1d",
   "metadata": {},
   "outputs": [],
   "source": [
    "cat = cv2.imread(\"images/cat.bmp\")\n",
    "cat_gray = cv2.cvtColor(cat, cv2.COLOR_BGR2GRAY)\n",
    "show_image(cat_gray, \"Cat Gray\")"
   ]
  }
 ],
 "metadata": {
  "kernelspec": {
   "display_name": "Python 3 (ipykernel)",
   "language": "python",
   "name": "python3"
  },
  "language_info": {
   "codemirror_mode": {
    "name": "ipython",
    "version": 3
   },
   "file_extension": ".py",
   "mimetype": "text/x-python",
   "name": "python",
   "nbconvert_exporter": "python",
   "pygments_lexer": "ipython3",
   "version": "3.9.12"
  }
 },
 "nbformat": 4,
 "nbformat_minor": 5
}
